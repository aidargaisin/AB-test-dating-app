{
 "cells": [
  {
   "cell_type": "markdown",
   "metadata": {},
   "source": [
    "# Проект: вариант 3"
   ]
  },
  {
   "cell_type": "markdown",
   "metadata": {},
   "source": [
    "<hr>\n",
    "<a id=\"0\"></a>\n",
    "\n",
    "### *Оглавление*\n",
    "\n",
    "1. [Задание](#1)\n",
    "2. [Предварительная обработка данных](#2)\n",
    "3. [A/A тест](#3)\n",
    "4. [A/B тест](#4)\n",
    "5. [Заключение](#5)"
   ]
  },
  {
   "cell_type": "markdown",
   "metadata": {},
   "source": [
    "<a id=\"1\"></a>\n",
    "\n",
    "## Задание"
   ]
  },
  {
   "cell_type": "markdown",
   "metadata": {},
   "source": [
    "Представьте, что вы работаете в крупном дейтинговом приложении.\n",
    "\n",
    "Помимо базовых функций, в приложении также имеется премиум-подписка, которая дает доступ к ряду важных дополнительных возможностей. Был проведен A/B тест, в рамках которого для новых пользователей из нескольких стран была изменена стоимость премиум-подписки* при покупке через две новые платежные системы. При этом стоимость пробного периода оставалась прежней.\n",
    "\n",
    "##### Проверьте:\n",
    "\n",
    "Был ли эксперимент успешен в целом.\n",
    "Проанализируйте, имеет ли нововведение смысл среди каких-либо конкретных групп пользователей.\n",
    "\n",
    "*Деньги за подписку списываются ежемесячно до тех пор, пока пользователь её не отменит."
   ]
  },
  {
   "cell_type": "markdown",
   "metadata": {},
   "source": [
    "#### Данные\n",
    "Всего есть три группы: \n",
    "\n",
    "    тестовая (test), \n",
    "    контрольная 1 (control_1) и \n",
    "    контрольная 2 (control_2). \n",
    "\n",
    "#### Для каждой из них:\n",
    "\n",
    "##### users_*.csv – информация о пользователях:\n",
    "\n",
    "    uid – идентификатор пользователя\n",
    "    age – возраст\n",
    "    attraction_coeff – коэффициент привлекательности (от 0 до 1000, [лайки/просмотры]*1000) \n",
    "    coins – число монеток (внутренняя валюта)\n",
    "    country – страна  \n",
    "    visit_days – в какие дни после регистрации пользователь посещал приложение (напр. в 1, затем в 7)\n",
    "    gender – пол\n",
    "    age_filter_start  – фильтр поиска, мин. значение \n",
    "    age_filter_end  – фильтр поиска, макс. значение \n",
    "    views_count – число полученных оценок \n",
    "    was_premium – был ли когда-либо премиум (либо пробный период премиум-статуса, либо купленный за деньги)\n",
    "    is_premium –  является ли премиум\n",
    "    total_revenue – нормированная выручка \n",
    "        \n",
    "##### transactions_*.csv – информация о платежах пользователей:\n",
    "    uid – идентификатор пользователя\n",
    "    country – страна\n",
    "    joined_at – дата и время регистрации\n",
    "    paid_at – дата и время покупки\n",
    "    revenue – нормированная выручка\n",
    "    payment_id – идентификатор платежа\n",
    "    from_page – откуда пользователь перешел на страницу оплаты\n",
    "    product_type – тип продукта (trial_premium – пробная премиум-подписка, premium_no_trial – премиум-подписка без пробной, coins – подписка за внутреннюю валюту, other_type – другое) \n",
    "\n",
    "##### Датайфреймы:\n",
    "\n",
    "    ust – информация о пользователях в тестовой группе. \n",
    "    usc1 – информация о пользователях в первой контрольной группе. \n",
    "    usc2 – информация о пользователях во второй контрольной группе . \n",
    "    trt – информация о платежах пользователей в тестовой группе. \n",
    "    trc1 – информация о платежах пользователей в первой контрольной группе. \n",
    "    trc2 – информация о платежах пользователей во второй контрольной группе "
   ]
  },
  {
   "cell_type": "code",
   "execution_count": 150,
   "metadata": {},
   "outputs": [],
   "source": [
    "# Подгружаем библиотеки\n",
    "\n",
    "import pandas as pd\n",
    "import numpy as np\n",
    "import scipy.stats as ss\n",
    "import mod\n",
    "from tqdm.auto import tqdm\n",
    "import random\n",
    "import seaborn as sns\n",
    "import matplotlib.pyplot as plt\n",
    "%matplotlib inline\n",
    "import warnings\n",
    "warnings.filterwarnings('ignore')"
   ]
  },
  {
   "cell_type": "code",
   "execution_count": 151,
   "metadata": {},
   "outputs": [],
   "source": [
    "# Общие настройки для графиков\n",
    "sns.set(\n",
    "    rc={\n",
    "        \"figure.figsize\": (6, 4),  # размер графика - 8 дюймов в ширину, 6 дюймов в высоту\n",
    "        \"axes.titlesize\": 20,  # размер заголовка \n",
    "        \"axes.labelsize\": 14,  # размер подписей осей\n",
    "        \"xtick.labelsize\": 13,  # размер подписей чёрточек на x-оси\n",
    "        \"ytick.labelsize\": 13,  # размер подписей чёрточек на y-оси\n",
    "    }\n",
    ")\n",
    "\n",
    "sns.set_style(\"whitegrid\")  # тема фона, белая со штриховкой"
   ]
  },
  {
   "cell_type": "code",
   "execution_count": 152,
   "metadata": {},
   "outputs": [],
   "source": [
    "# Ссылки на файлы\n",
    "\n",
    "users_test_url = \"https://disk.yandex.ru/d/4XXIME4osGrMRA\"\n",
    "users_control_1_url = 'https://disk.yandex.ru/d/yJFydMNNGkEKfg'\n",
    "users_control_2_url = 'https://disk.yandex.ru/d/br6KkQupzzTGoQ'\n",
    "transactions_test_url = 'https://disk.yandex.ru/d/gvCWpZ55ODzs2g'\n",
    "transactions_control_1_url = 'https://disk.yandex.ru/d/VY5W0keMX5TZBQ'\n",
    "transactions_control_2_url = 'https://disk.yandex.ru/d/th5GL0mGOc-qzg'"
   ]
  },
  {
   "cell_type": "code",
   "execution_count": 153,
   "metadata": {},
   "outputs": [],
   "source": [
    "# Загружаем данные\n",
    "\n",
    "ust = pd.read_csv(mod.download_yandex_disk(users_test_url), sep=';')\n",
    "usc1 = pd.read_csv(mod.download_yandex_disk(users_control_1_url), sep=';')\n",
    "usc2 = pd.read_csv(mod.download_yandex_disk(users_control_2_url), sep=';')\n",
    "trt = pd.read_csv(mod.download_yandex_disk(transactions_test_url), sep=';')\n",
    "trc1 = pd.read_csv(mod.download_yandex_disk(transactions_control_1_url), sep=';')\n",
    "trc2 = pd.read_csv(mod.download_yandex_disk(transactions_control_2_url), sep=';')"
   ]
  },
  {
   "cell_type": "markdown",
   "metadata": {},
   "source": [
    "<a id=\"2\"></a>\n",
    "\n",
    "## Предварительная обработка данных\n",
    "[в оглавление](#0)  "
   ]
  },
  {
   "cell_type": "code",
   "execution_count": 154,
   "metadata": {},
   "outputs": [
    {
     "name": "stdout",
     "output_type": "stream",
     "text": [
      "<class 'pandas.core.frame.DataFrame'>\n",
      "RangeIndex: 4308 entries, 0 to 4307\n",
      "Data columns (total 13 columns):\n",
      " #   Column            Non-Null Count  Dtype  \n",
      "---  ------            --------------  -----  \n",
      " 0   uid               4308 non-null   int64  \n",
      " 1   age               4308 non-null   int64  \n",
      " 2   attraction_coeff  4308 non-null   int64  \n",
      " 3   coins             49 non-null     float64\n",
      " 4   country           4308 non-null   object \n",
      " 5   visit_days        2978 non-null   object \n",
      " 6   gender            4308 non-null   int64  \n",
      " 7   age_filter_start  4308 non-null   int64  \n",
      " 8   age_filter_end    4308 non-null   int64  \n",
      " 9   views_count       4308 non-null   int64  \n",
      " 10  was_premium       408 non-null    float64\n",
      " 11  is_premium        157 non-null    float64\n",
      " 12  total_revenue     4308 non-null   int64  \n",
      "dtypes: float64(3), int64(8), object(2)\n",
      "memory usage: 437.7+ KB\n",
      "<class 'pandas.core.frame.DataFrame'>\n",
      "RangeIndex: 4340 entries, 0 to 4339\n",
      "Data columns (total 13 columns):\n",
      " #   Column            Non-Null Count  Dtype  \n",
      "---  ------            --------------  -----  \n",
      " 0   uid               4340 non-null   int64  \n",
      " 1   age               4340 non-null   int64  \n",
      " 2   attraction_coeff  4340 non-null   int64  \n",
      " 3   coins             60 non-null     float64\n",
      " 4   country           4340 non-null   object \n",
      " 5   visit_days        3016 non-null   object \n",
      " 6   gender            4340 non-null   int64  \n",
      " 7   age_filter_start  4340 non-null   int64  \n",
      " 8   age_filter_end    4340 non-null   int64  \n",
      " 9   views_count       4340 non-null   int64  \n",
      " 10  was_premium       436 non-null    float64\n",
      " 11  is_premium        192 non-null    float64\n",
      " 12  total_revenue     4340 non-null   int64  \n",
      "dtypes: float64(3), int64(8), object(2)\n",
      "memory usage: 440.9+ KB\n",
      "<class 'pandas.core.frame.DataFrame'>\n",
      "RangeIndex: 4264 entries, 0 to 4263\n",
      "Data columns (total 13 columns):\n",
      " #   Column            Non-Null Count  Dtype  \n",
      "---  ------            --------------  -----  \n",
      " 0   uid               4264 non-null   int64  \n",
      " 1   age               4264 non-null   int64  \n",
      " 2   attraction_coeff  4264 non-null   int64  \n",
      " 3   coins             61 non-null     float64\n",
      " 4   country           4264 non-null   object \n",
      " 5   visit_days        2900 non-null   object \n",
      " 6   gender            4264 non-null   int64  \n",
      " 7   age_filter_start  4264 non-null   int64  \n",
      " 8   age_filter_end    4264 non-null   int64  \n",
      " 9   views_count       4264 non-null   int64  \n",
      " 10  was_premium       411 non-null    float64\n",
      " 11  is_premium        191 non-null    float64\n",
      " 12  total_revenue     4264 non-null   int64  \n",
      "dtypes: float64(3), int64(8), object(2)\n",
      "memory usage: 433.2+ KB\n",
      "<class 'pandas.core.frame.DataFrame'>\n",
      "RangeIndex: 273 entries, 0 to 272\n",
      "Data columns (total 8 columns):\n",
      " #   Column        Non-Null Count  Dtype \n",
      "---  ------        --------------  ----- \n",
      " 0   uid           273 non-null    int64 \n",
      " 1   country       273 non-null    object\n",
      " 2   joined_at     273 non-null    object\n",
      " 3   paid_at       273 non-null    object\n",
      " 4   revenue       273 non-null    int64 \n",
      " 5   payment_id    273 non-null    int64 \n",
      " 6   from_page     273 non-null    object\n",
      " 7   product_type  273 non-null    object\n",
      "dtypes: int64(3), object(5)\n",
      "memory usage: 17.2+ KB\n",
      "<class 'pandas.core.frame.DataFrame'>\n",
      "RangeIndex: 1007 entries, 0 to 1006\n",
      "Data columns (total 8 columns):\n",
      " #   Column        Non-Null Count  Dtype  \n",
      "---  ------        --------------  -----  \n",
      " 0   uid           377 non-null    float64\n",
      " 1   country       377 non-null    object \n",
      " 2   joined_at     1007 non-null   object \n",
      " 3   paid_at       1007 non-null   object \n",
      " 4   revenue       377 non-null    float64\n",
      " 5   payment_id    377 non-null    float64\n",
      " 6   from_page     377 non-null    object \n",
      " 7   product_type  377 non-null    object \n",
      "dtypes: float64(3), object(5)\n",
      "memory usage: 63.1+ KB\n",
      "<class 'pandas.core.frame.DataFrame'>\n",
      "RangeIndex: 328 entries, 0 to 327\n",
      "Data columns (total 8 columns):\n",
      " #   Column        Non-Null Count  Dtype \n",
      "---  ------        --------------  ----- \n",
      " 0   uid           328 non-null    int64 \n",
      " 1   country       328 non-null    object\n",
      " 2   joined_at     328 non-null    object\n",
      " 3   paid_at       328 non-null    object\n",
      " 4   revenue       328 non-null    int64 \n",
      " 5   payment_id    328 non-null    int64 \n",
      " 6   from_page     328 non-null    object\n",
      " 7   product_type  328 non-null    object\n",
      "dtypes: int64(3), object(5)\n",
      "memory usage: 20.6+ KB\n",
      "None None None None None None\n"
     ]
    }
   ],
   "source": [
    "# Выведем информацию о всех датафреймах\n",
    "\n",
    "print(ust.info(), usc1.info(), usc2.info(), trt.info(), trc1.info(), trc2.info())"
   ]
  },
  {
   "cell_type": "markdown",
   "metadata": {},
   "source": [
    "В колонках coins, visit_days, was_premium и is_premium в датафреймах с информацией о пользователях из тестовой и контрольных групп присутствуют пропущенные значения. Так же стоит обратить внимание на пустые строки в датафрейме с информацией о платежах первой контрольной группы. \n",
    "\n",
    "Поскольку колонки coins, was_premium и is_premium имею целочисленные значения, преобразуем в соответствующий тип данных.\n",
    "Преобразуем тип данных колонок с датами в датафреймах с информацией о платежах.  Исправим тип данных колонок в датафрейме с информацией о платежах, соответственно типу данных в подобных колонках в других датафреймах.\n"
   ]
  },
  {
   "cell_type": "code",
   "execution_count": 155,
   "metadata": {},
   "outputs": [],
   "source": [
    "# Заполняем пропущенные значения \n",
    "ust = ust.fillna(0)\n",
    "usc1 = usc1.fillna(0)\n",
    "usc2 = usc2.fillna(0)\n",
    "\n",
    "# Удаляем пустые строки\n",
    "trc1 = trc1.dropna()"
   ]
  },
  {
   "cell_type": "code",
   "execution_count": 156,
   "metadata": {},
   "outputs": [],
   "source": [
    "# Преобразуем типы данных\n",
    "\n",
    "ust[['coins', 'is_premium', 'was_premium']] = ust[['coins', 'is_premium', 'was_premium']].astype(int)\n",
    "usc1[['coins', 'is_premium', 'was_premium']] = usc1[['coins', 'is_premium', 'was_premium']].astype(int)\n",
    "usc2[['coins', 'is_premium', 'was_premium']] = usc2[['coins', 'is_premium', 'was_premium']].astype(int)\n",
    "\n",
    "trt[['joined_at', 'paid_at']] = trt[['joined_at', 'paid_at']].apply(pd.to_datetime)\n",
    "trc1[['joined_at', 'paid_at']] = trc1[['joined_at', 'paid_at']].apply(pd.to_datetime)\n",
    "trc2[['joined_at', 'paid_at']] = trc2[['joined_at', 'paid_at']].apply(pd.to_datetime)\n",
    "\n",
    "trc1[['uid', 'revenue', 'payment_id']] = trc1[['uid', 'revenue', 'payment_id']].astype(int)"
   ]
  },
  {
   "cell_type": "markdown",
   "metadata": {},
   "source": [
    "Для чистоты эксперимента наши данные должны быть взяты за одинаковые временные отрезки.\n",
    "Проверим, что даты начала и окончания регистраций и оплат у всех групп одинаковы."
   ]
  },
  {
   "cell_type": "code",
   "execution_count": 157,
   "metadata": {},
   "outputs": [
    {
     "name": "stdout",
     "output_type": "stream",
     "text": [
      "                  joined_at              paid_at\n",
      "count                   273                  273\n",
      "unique                  146                  258\n",
      "top     2017-10-18 01:09:00  2017-10-22 22:08:00\n",
      "freq                     14                    4\n",
      "first   2017-01-11 03:07:00  2017-01-11 04:37:00\n",
      "last    2017-10-31 23:40:00  2017-12-11 22:06:00\n",
      "\n",
      "                  joined_at              paid_at\n",
      "count                   377                  377\n",
      "unique                  193                  335\n",
      "top     2017-10-16 01:38:00  2017-10-16 02:08:00\n",
      "freq                     27                    5\n",
      "first   2015-01-19 11:49:00  2016-12-14 16:16:00\n",
      "last    2017-10-31 22:17:00  2017-12-11 21:57:00\n",
      "\n",
      "                  joined_at              paid_at\n",
      "count                   328                  328\n",
      "unique                  187                  309\n",
      "top     2017-10-30 15:22:00  2017-10-23 20:17:00\n",
      "freq                     11                    3\n",
      "first   2017-01-11 08:36:00  2017-01-11 05:34:00\n",
      "last    2017-10-31 17:43:00  2017-12-11 23:28:00\n"
     ]
    }
   ],
   "source": [
    "print(trt.describe(include='datetime'), \n",
    "      trc1.describe(include='datetime'), trc2.describe(include='datetime'), sep='\\n\\n')"
   ]
  },
  {
   "cell_type": "markdown",
   "metadata": {},
   "source": [
    "В первой контрольной группе присуствуют даты регистрации за 2015 год и даты транзакаций за 2016 год. \n",
    "Взглянем подробнее."
   ]
  },
  {
   "cell_type": "code",
   "execution_count": 158,
   "metadata": {
    "scrolled": true
   },
   "outputs": [
    {
     "data": {
      "text/html": [
       "<div>\n",
       "<style scoped>\n",
       "    .dataframe tbody tr th:only-of-type {\n",
       "        vertical-align: middle;\n",
       "    }\n",
       "\n",
       "    .dataframe tbody tr th {\n",
       "        vertical-align: top;\n",
       "    }\n",
       "\n",
       "    .dataframe thead th {\n",
       "        text-align: right;\n",
       "    }\n",
       "</style>\n",
       "<table border=\"1\" class=\"dataframe\">\n",
       "  <thead>\n",
       "    <tr style=\"text-align: right;\">\n",
       "      <th></th>\n",
       "      <th>uid</th>\n",
       "      <th>country</th>\n",
       "      <th>joined_at</th>\n",
       "      <th>paid_at</th>\n",
       "      <th>revenue</th>\n",
       "      <th>payment_id</th>\n",
       "      <th>from_page</th>\n",
       "      <th>product_type</th>\n",
       "    </tr>\n",
       "  </thead>\n",
       "  <tbody>\n",
       "    <tr>\n",
       "      <th>65</th>\n",
       "      <td>960936960</td>\n",
       "      <td>Russian Federation</td>\n",
       "      <td>2015-01-19 11:49:00</td>\n",
       "      <td>2016-12-14 17:30:00</td>\n",
       "      <td>26</td>\n",
       "      <td>0</td>\n",
       "      <td>refund_VP</td>\n",
       "      <td>other_type</td>\n",
       "    </tr>\n",
       "    <tr>\n",
       "      <th>101</th>\n",
       "      <td>960936960</td>\n",
       "      <td>Russian Federation</td>\n",
       "      <td>2015-01-19 11:49:00</td>\n",
       "      <td>2016-12-14 17:35:00</td>\n",
       "      <td>637</td>\n",
       "      <td>0</td>\n",
       "      <td>refung_AP</td>\n",
       "      <td>other_type</td>\n",
       "    </tr>\n",
       "    <tr>\n",
       "      <th>224</th>\n",
       "      <td>960936960</td>\n",
       "      <td>Russian Federation</td>\n",
       "      <td>2015-01-19 11:49:00</td>\n",
       "      <td>2016-12-14 16:16:00</td>\n",
       "      <td>143</td>\n",
       "      <td>0</td>\n",
       "      <td>refund_WP</td>\n",
       "      <td>other_type</td>\n",
       "    </tr>\n",
       "  </tbody>\n",
       "</table>\n",
       "</div>"
      ],
      "text/plain": [
       "           uid             country           joined_at             paid_at  \\\n",
       "65   960936960  Russian Federation 2015-01-19 11:49:00 2016-12-14 17:30:00   \n",
       "101  960936960  Russian Federation 2015-01-19 11:49:00 2016-12-14 17:35:00   \n",
       "224  960936960  Russian Federation 2015-01-19 11:49:00 2016-12-14 16:16:00   \n",
       "\n",
       "     revenue  payment_id  from_page product_type  \n",
       "65        26           0  refund_VP   other_type  \n",
       "101      637           0  refung_AP   other_type  \n",
       "224      143           0  refund_WP   other_type  "
      ]
     },
     "execution_count": 158,
     "metadata": {},
     "output_type": "execute_result"
    }
   ],
   "source": [
    "trc1.query('joined_at < \"2017-01-11\" or paid_at < \"2017-01-11\"')"
   ]
  },
  {
   "cell_type": "markdown",
   "metadata": {},
   "source": [
    "Как видно выше, в логи попали записи о транзакациях за декабрь 2016 года пользователя, зарегистрированного в 2015 году.\n",
    "Удалим данные строки, чтобы данные в датасетах с логами транзакаций были представлены за эквивалентный промежуток.\n",
    "Так же удалим строку c uid этого пользователя из таблицы с данными пользователей."
   ]
  },
  {
   "cell_type": "code",
   "execution_count": 159,
   "metadata": {},
   "outputs": [],
   "source": [
    "# Удаляем строки\n",
    "\n",
    "trc1 = trc1.query('uid != 960936960')\n",
    "usc1 = usc1.query('uid != 960936960')"
   ]
  },
  {
   "cell_type": "markdown",
   "metadata": {},
   "source": [
    "Проверим датафреймы на наличие дубликатов"
   ]
  },
  {
   "cell_type": "code",
   "execution_count": 160,
   "metadata": {},
   "outputs": [
    {
     "name": "stdout",
     "output_type": "stream",
     "text": [
      "Количество дубликатов в датафрейме ust: 0 \n",
      "Количество дубликатов в датафрейме usc1: 0 \n",
      "Количество дубликатов в датафрейме usc2: 0 \n",
      "Количество дубликатов в датафрейме trt: 7 \n",
      "Количество дубликатов в датафрейме trc1: 21 \n",
      "Количество дубликатов в датафрейме trc2: 5 \n",
      "\n"
     ]
    }
   ],
   "source": [
    "print('Количество дубликатов в датафрейме ust:', ust.duplicated().sum(), '\\n'\n",
    "'Количество дубликатов в датафрейме usc1:', usc1.duplicated().sum(), '\\n'\n",
    "'Количество дубликатов в датафрейме usc2:', usc2.duplicated().sum(), '\\n'\n",
    "'Количество дубликатов в датафрейме trt:', trt.duplicated().sum(), '\\n'\n",
    "'Количество дубликатов в датафрейме trc1:', trc1.duplicated().sum(), '\\n'\n",
    "'Количество дубликатов в датафрейме trc2:', trc2.duplicated().sum(), '\\n')"
   ]
  },
  {
   "cell_type": "markdown",
   "metadata": {},
   "source": [
    "В логах о транзакациях присутсвуют одинаковые строки. \n",
    "Однако прежде, чем их удалять проверим сходятся выручки из дасатетов с информацией о пользователях и их транзакаций."
   ]
  },
  {
   "cell_type": "code",
   "execution_count": 161,
   "metadata": {},
   "outputs": [
    {
     "name": "stdout",
     "output_type": "stream",
     "text": [
      "-44083 -30264 0\n"
     ]
    }
   ],
   "source": [
    "# Сравним общую выручку в датасетах\n",
    "\n",
    "print(ust.total_revenue.sum() - trt.revenue.sum(),\n",
    "usc1.total_revenue.sum() - trc1.revenue.sum(),\n",
    "usc2.total_revenue.sum() - trc2.revenue.sum())"
   ]
  },
  {
   "cell_type": "code",
   "execution_count": 162,
   "metadata": {},
   "outputs": [
    {
     "name": "stdout",
     "output_type": "stream",
     "text": [
      "0 -1 0\n"
     ]
    }
   ],
   "source": [
    "# Сравним количество уникальных пользователей, совершавших платежи.\n",
    "\n",
    "print(ust.query('total_revenue>0').uid.nunique() - trt.uid.nunique(),\n",
    "usc1.query('total_revenue>0').uid.nunique() - trc1.uid.nunique(),\n",
    "usc2.query('total_revenue>0').uid.nunique() - trc2.uid.nunique())"
   ]
  },
  {
   "cell_type": "markdown",
   "metadata": {},
   "source": [
    "Во второй контрольной группе информация, о пользователях совпадает.\n",
    "В датасетах тестовой и первой контрольной группы в нормированной выручке, вероятно, не хватает информации о некоторых проведенных транзакациях. Посмотрим подробнее. "
   ]
  },
  {
   "cell_type": "code",
   "execution_count": 163,
   "metadata": {},
   "outputs": [
    {
     "data": {
      "text/html": [
       "<div>\n",
       "<style scoped>\n",
       "    .dataframe tbody tr th:only-of-type {\n",
       "        vertical-align: middle;\n",
       "    }\n",
       "\n",
       "    .dataframe tbody tr th {\n",
       "        vertical-align: top;\n",
       "    }\n",
       "\n",
       "    .dataframe thead th {\n",
       "        text-align: right;\n",
       "    }\n",
       "</style>\n",
       "<table border=\"1\" class=\"dataframe\">\n",
       "  <thead>\n",
       "    <tr style=\"text-align: right;\">\n",
       "      <th></th>\n",
       "      <th>uid</th>\n",
       "      <th>revenue</th>\n",
       "      <th>total_revenue</th>\n",
       "    </tr>\n",
       "  </thead>\n",
       "  <tbody>\n",
       "    <tr>\n",
       "      <th>181</th>\n",
       "      <td>892355163</td>\n",
       "      <td>30264</td>\n",
       "      <td>0</td>\n",
       "    </tr>\n",
       "  </tbody>\n",
       "</table>\n",
       "</div>"
      ],
      "text/plain": [
       "           uid  revenue  total_revenue\n",
       "181  892355163    30264              0"
      ]
     },
     "execution_count": 163,
     "metadata": {},
     "output_type": "execute_result"
    }
   ],
   "source": [
    "# Отличия значений нормированной выручки из датасетов первой контрольной группы\n",
    "\n",
    "trc1.groupby('uid')\\\n",
    "    .agg({'revenue': 'sum'})\\\n",
    "    .merge(usc1[['uid', 'total_revenue']], how='left', on='uid')\\\n",
    "    .query('revenue != total_revenue')"
   ]
  },
  {
   "cell_type": "code",
   "execution_count": 164,
   "metadata": {},
   "outputs": [
    {
     "data": {
      "text/html": [
       "<div>\n",
       "<style scoped>\n",
       "    .dataframe tbody tr th:only-of-type {\n",
       "        vertical-align: middle;\n",
       "    }\n",
       "\n",
       "    .dataframe tbody tr th {\n",
       "        vertical-align: top;\n",
       "    }\n",
       "\n",
       "    .dataframe thead th {\n",
       "        text-align: right;\n",
       "    }\n",
       "</style>\n",
       "<table border=\"1\" class=\"dataframe\">\n",
       "  <thead>\n",
       "    <tr style=\"text-align: right;\">\n",
       "      <th></th>\n",
       "      <th>uid</th>\n",
       "      <th>revenue</th>\n",
       "      <th>total_revenue</th>\n",
       "    </tr>\n",
       "  </thead>\n",
       "  <tbody>\n",
       "    <tr>\n",
       "      <th>129</th>\n",
       "      <td>892275462</td>\n",
       "      <td>58968</td>\n",
       "      <td>14885</td>\n",
       "    </tr>\n",
       "  </tbody>\n",
       "</table>\n",
       "</div>"
      ],
      "text/plain": [
       "           uid  revenue  total_revenue\n",
       "129  892275462    58968          14885"
      ]
     },
     "execution_count": 164,
     "metadata": {},
     "output_type": "execute_result"
    }
   ],
   "source": [
    "# Отличия значений нормированной выручки из датасетов тестовой группы\n",
    "\n",
    "trt.groupby('uid')\\\n",
    "    .agg({'revenue': 'sum'})\\\n",
    "    .merge(ust[['uid', 'total_revenue']], how='left', on='uid')\\\n",
    "    .query('revenue != total_revenue')"
   ]
  },
  {
   "cell_type": "markdown",
   "metadata": {},
   "source": [
    "Для одного пользователя из тестовой группый и одного пользователя в первой контрольной группе не были учтены в выручке, некоторые транзакции. Изменим значения нормированный выручке в соответсвующих таблицах."
   ]
  },
  {
   "cell_type": "code",
   "execution_count": 165,
   "metadata": {},
   "outputs": [],
   "source": [
    "# Корректируем значения\n",
    "\n",
    "usc1.loc[usc1['uid'] == 892355163, 'total_revenue'] = 30264\n",
    "ust.loc[ust['uid'] == 892275462, 'total_revenue'] = 58968"
   ]
  },
  {
   "cell_type": "markdown",
   "metadata": {},
   "source": [
    "Дублирование строк связано с тем, что в логах не учитываются секунды совершения транзакаци, что при эквивалентной сумме транзакации создает идентичные строки."
   ]
  },
  {
   "cell_type": "markdown",
   "metadata": {},
   "source": [
    "\n",
    "<a id=\"3\"></a>\n",
    "\n",
    "## A/A-тест\n",
    "[в оглавление](#0)  "
   ]
  },
  {
   "cell_type": "markdown",
   "metadata": {},
   "source": [
    "Прежде чем приступить к анализу результатов проведенного A/B эксперимента, оценим качество системы сплитования трафика, путем анализа однородности выборок двух контрольных групп.\n",
    "\n",
    "В начале для оценки репрезентативности выборок оценим распределение пользователей в двух контрольных группах по следующим признакам: возраст, пол, страна, время регистрации, количество посещений после регистрации, типа продукта и выручка с пользователя. Поскольку целью эксперимента было проанализировать влияние изменения стоимости премиум-подписки, то затем мы сравним коэффициент конверсии в премиум пользователя (CR), средний доход с привлеченного пользователя (далее ARPU) и средний доход с платящего пользователя (ARPPU). Основным критерием качества работы системы сплитования будет оценка FPR (False Positive Rate) наших ключевых бизнес-метрик.\n",
    "\n",
    "Объединим датасеты с информацией о пользователях в двух контрольных групп, преварительно создав колонку с номером контрольной группы. "
   ]
  },
  {
   "cell_type": "code",
   "execution_count": 166,
   "metadata": {},
   "outputs": [],
   "source": [
    "# Объединяем датафреймы\n",
    "\n",
    "usc1['group'] = 1\n",
    "usc2['group'] = 2\n",
    "usc = pd.concat([usc1, usc2], ignore_index=True)"
   ]
  },
  {
   "cell_type": "markdown",
   "metadata": {},
   "source": [
    "##### Age"
   ]
  },
  {
   "cell_type": "code",
   "execution_count": 167,
   "metadata": {},
   "outputs": [
    {
     "data": {
      "image/png": "[encoded data removed]",
      "text/plain": [
       "<Figure size 432x288 with 1 Axes>"
      ]
     },
     "metadata": {},
     "output_type": "display_data"
    }
   ],
   "source": [
    "# Cмотрим распределение\n",
    "\n",
    "sns.histplot(data=usc, x='age', hue='group', palette='tab10', log_scale=(True, False));"
   ]
  },
  {
   "cell_type": "code",
   "execution_count": 168,
   "metadata": {},
   "outputs": [
    {
     "name": "stdout",
     "output_type": "stream",
     "text": [
      "ShapiroResult(statistic=0.933463454246521, pvalue=2.6340207233913586e-40)\n",
      "ShapiroResult(statistic=0.9413043856620789, pvalue=3.639819792001761e-38)\n"
     ]
    }
   ],
   "source": [
    "# Проверка на нормальность\n",
    "\n",
    "print(ss.shapiro((usc.age[usc.group == 1])),\n",
    "ss.shapiro((usc.age[usc.group == 2])), sep='\\n')"
   ]
  },
  {
   "cell_type": "code",
   "execution_count": 169,
   "metadata": {},
   "outputs": [
    {
     "name": "stdout",
     "output_type": "stream",
     "text": [
      "ShapiroResult(statistic=0.9886850118637085, pvalue=3.6349111986050465e-18)\n",
      "ShapiroResult(statistic=0.989700436592102, pvalue=4.414947148453982e-17)\n"
     ]
    }
   ],
   "source": [
    "# Логарифимрование не позволяет получить нормальные данные\n",
    "\n",
    "print(ss.shapiro(np.log(usc.age[usc.group == 1])),\n",
    "ss.shapiro(np.log(usc.age[usc.group == 2])), sep='\\n')"
   ]
  },
  {
   "cell_type": "markdown",
   "metadata": {},
   "source": [
    "Поскольку распределение ненормально, используя бустрап, проведем t-test. "
   ]
  },
  {
   "cell_type": "code",
   "execution_count": 170,
   "metadata": {},
   "outputs": [
    {
     "data": {
      "application/vnd.jupyter.widget-view+json": {
       "model_id": "df4c724e282548abb5916e4a9fd95111",
       "version_major": 2,
       "version_minor": 0
      },
      "text/plain": [
       "HBox(children=(FloatProgress(value=0.0, max=20000.0), HTML(value='')))"
      ]
     },
     "metadata": {},
     "output_type": "display_data"
    },
    {
     "name": "stdout",
     "output_type": "stream",
     "text": [
      "\n"
     ]
    },
    {
     "data": {
      "image/png": "[encoded data removed]",
      "text/plain": [
       "<Figure size 432x288 with 1 Axes>"
      ]
     },
     "metadata": {},
     "output_type": "display_data"
    },
    {
     "name": "stdout",
     "output_type": "stream",
     "text": [
      "α=0.05, FPR=0.04645\n"
     ]
    }
   ],
   "source": [
    "# Симуляция t-test\n",
    "\n",
    "result = mod.t_simulation(usc.age[usc.group == 1], usc.age[usc.group == 2], 20000)\n",
    "mod.FPR_graph(result)"
   ]
  },
  {
   "cell_type": "markdown",
   "metadata": {},
   "source": [
    "##### Gender"
   ]
  },
  {
   "cell_type": "code",
   "execution_count": 171,
   "metadata": {
    "scrolled": false
   },
   "outputs": [
    {
     "data": {
      "text/plain": [
       "<matplotlib.axes._subplots.AxesSubplot at 0x7ffb757f6668>"
      ]
     },
     "execution_count": 171,
     "metadata": {},
     "output_type": "execute_result"
    },
    {
     "data": {
      "image/png": "[encoded data removed]",
      "text/plain": [
       "<Figure size 432x288 with 1 Axes>"
      ]
     },
     "metadata": {},
     "output_type": "display_data"
    }
   ],
   "source": [
    "sns.countplot(data=usc, x='gender', hue='group', palette='tab10')"
   ]
  },
  {
   "cell_type": "markdown",
   "metadata": {},
   "source": [
    "Так как у нас две категориальные переменные, то следует воспользоваться критерием хи-квадрат."
   ]
  },
  {
   "cell_type": "code",
   "execution_count": 172,
   "metadata": {},
   "outputs": [
    {
     "data": {
      "text/html": [
       "<div>\n",
       "<style scoped>\n",
       "    .dataframe tbody tr th:only-of-type {\n",
       "        vertical-align: middle;\n",
       "    }\n",
       "\n",
       "    .dataframe tbody tr th {\n",
       "        vertical-align: top;\n",
       "    }\n",
       "\n",
       "    .dataframe thead th {\n",
       "        text-align: right;\n",
       "    }\n",
       "</style>\n",
       "<table border=\"1\" class=\"dataframe\">\n",
       "  <thead>\n",
       "    <tr style=\"text-align: right;\">\n",
       "      <th>group</th>\n",
       "      <th>1</th>\n",
       "      <th>2</th>\n",
       "    </tr>\n",
       "    <tr>\n",
       "      <th>gender</th>\n",
       "      <th></th>\n",
       "      <th></th>\n",
       "    </tr>\n",
       "  </thead>\n",
       "  <tbody>\n",
       "    <tr>\n",
       "      <th>0</th>\n",
       "      <td>182</td>\n",
       "      <td>195</td>\n",
       "    </tr>\n",
       "    <tr>\n",
       "      <th>1</th>\n",
       "      <td>4157</td>\n",
       "      <td>4069</td>\n",
       "    </tr>\n",
       "  </tbody>\n",
       "</table>\n",
       "</div>"
      ],
      "text/plain": [
       "group      1     2\n",
       "gender            \n",
       "0        182   195\n",
       "1       4157  4069"
      ]
     },
     "execution_count": 172,
     "metadata": {},
     "output_type": "execute_result"
    }
   ],
   "source": [
    "# Таблица сопряженности\n",
    "\n",
    "pd.crosstab(usc.gender, usc.group)"
   ]
  },
  {
   "cell_type": "code",
   "execution_count": 173,
   "metadata": {},
   "outputs": [
    {
     "name": "stdout",
     "output_type": "stream",
     "text": [
      "pvalue = 0.4207205052772518\n"
     ]
    }
   ],
   "source": [
    "stat, p, dof, expected = ss.chi2_contingency(pd.crosstab(usc.gender, usc.group))\n",
    "print('pvalue =', p)"
   ]
  },
  {
   "cell_type": "markdown",
   "metadata": {},
   "source": [
    "##### Country"
   ]
  },
  {
   "cell_type": "code",
   "execution_count": 174,
   "metadata": {},
   "outputs": [
    {
     "data": {
      "text/html": [
       "<div>\n",
       "<style scoped>\n",
       "    .dataframe tbody tr th:only-of-type {\n",
       "        vertical-align: middle;\n",
       "    }\n",
       "\n",
       "    .dataframe tbody tr th {\n",
       "        vertical-align: top;\n",
       "    }\n",
       "\n",
       "    .dataframe thead th {\n",
       "        text-align: right;\n",
       "    }\n",
       "</style>\n",
       "<table border=\"1\" class=\"dataframe\">\n",
       "  <thead>\n",
       "    <tr style=\"text-align: right;\">\n",
       "      <th>group</th>\n",
       "      <th>1</th>\n",
       "      <th>2</th>\n",
       "    </tr>\n",
       "    <tr>\n",
       "      <th>country</th>\n",
       "      <th></th>\n",
       "      <th></th>\n",
       "    </tr>\n",
       "  </thead>\n",
       "  <tbody>\n",
       "    <tr>\n",
       "      <th>Algeria</th>\n",
       "      <td>2.0</td>\n",
       "      <td>0.0</td>\n",
       "    </tr>\n",
       "    <tr>\n",
       "      <th>Argentina</th>\n",
       "      <td>389.0</td>\n",
       "      <td>397.0</td>\n",
       "    </tr>\n",
       "    <tr>\n",
       "      <th>Armenia</th>\n",
       "      <td>1.0</td>\n",
       "      <td>0.0</td>\n",
       "    </tr>\n",
       "    <tr>\n",
       "      <th>Australia</th>\n",
       "      <td>50.0</td>\n",
       "      <td>51.0</td>\n",
       "    </tr>\n",
       "    <tr>\n",
       "      <th>Austria</th>\n",
       "      <td>0.0</td>\n",
       "      <td>2.0</td>\n",
       "    </tr>\n",
       "  </tbody>\n",
       "</table>\n",
       "</div>"
      ],
      "text/plain": [
       "group          1      2\n",
       "country                \n",
       "Algeria      2.0    0.0\n",
       "Argentina  389.0  397.0\n",
       "Armenia      1.0    0.0\n",
       "Australia   50.0   51.0\n",
       "Austria      0.0    2.0"
      ]
     },
     "execution_count": 174,
     "metadata": {},
     "output_type": "execute_result"
    }
   ],
   "source": [
    "# Создадим таблицу с двумя массива с количеством пользователей для каждой контрольной группы\n",
    "\n",
    "control_country = usc\\\n",
    "    .groupby(['country', 'group'])\\\n",
    "    .agg({'country': 'count'})\\\n",
    "    .rename(columns={'country': 'N'})\\\n",
    "    .reset_index()\\\n",
    "    .pivot(index='country', columns='group', values='N')\\\n",
    "    .fillna(0)\n",
    "control_country.head()"
   ]
  },
  {
   "cell_type": "code",
   "execution_count": 175,
   "metadata": {},
   "outputs": [
    {
     "name": "stdout",
     "output_type": "stream",
     "text": [
      "pvalue = 0.26675503409839196\n"
     ]
    }
   ],
   "source": [
    "# Воспользуемся критерием x-квадрат, так как страна пользователя переменная категориальная\n",
    "\n",
    "stat, p, dof, expected = ss.chi2_contingency([control_country[1], control_country[2]])\n",
    "print('pvalue =', p)"
   ]
  },
  {
   "cell_type": "markdown",
   "metadata": {},
   "source": [
    "##### joined_at"
   ]
  },
  {
   "cell_type": "markdown",
   "metadata": {},
   "source": [
    "Сравним распределение регистрации пользователей в двух контрольных группах по дням ."
   ]
  },
  {
   "cell_type": "code",
   "execution_count": 176,
   "metadata": {},
   "outputs": [],
   "source": [
    "# Объединим логи транзакаций и создадим колонку с месяцем регистрации\n",
    "\n",
    "trc1['group'] = 1\n",
    "trc2['group'] = 2\n",
    "trc = pd.concat([trc1, trc2], ignore_index=True)\n",
    "trc['joined_at_month'] = trc.joined_at.dt.to_period('M')"
   ]
  },
  {
   "cell_type": "code",
   "execution_count": 177,
   "metadata": {},
   "outputs": [
    {
     "data": {
      "text/plain": [
       "<matplotlib.axes._subplots.AxesSubplot at 0x7ffb762c49e8>"
      ]
     },
     "execution_count": 177,
     "metadata": {},
     "output_type": "execute_result"
    },
    {
     "data": {
      "image/png": "[encoded data removed]",
      "text/plain": [
       "<Figure size 432x288 with 1 Axes>"
      ]
     },
     "metadata": {},
     "output_type": "display_data"
    }
   ],
   "source": [
    "control_joined_month = trc\\\n",
    "    .groupby(['joined_at_month', 'group'])\\\n",
    "    .agg({'uid':'count'})\\\n",
    "    .reset_index()\\\n",
    "    .rename(columns={'uid': 'registered_users'})\\\n",
    "    .pivot(index='joined_at_month', columns='group', values='registered_users')\\\n",
    "    .fillna(0)\n",
    "control_joined_month.plot()"
   ]
  },
  {
   "cell_type": "code",
   "execution_count": 178,
   "metadata": {},
   "outputs": [
    {
     "name": "stdout",
     "output_type": "stream",
     "text": [
      "ShapiroResult(statistic=0.48620206117630005, pvalue=2.506803184587625e-06)\n",
      "ShapiroResult(statistic=0.40957826375961304, pvalue=3.218795256998419e-07)\n"
     ]
    }
   ],
   "source": [
    "# Проверка на нормальность\n",
    "\n",
    "print(ss.shapiro((control_joined_month[1])),\n",
    "      ss.shapiro((control_joined_month[2])), sep='\\n')"
   ]
  },
  {
   "cell_type": "code",
   "execution_count": 179,
   "metadata": {},
   "outputs": [
    {
     "data": {
      "text/plain": [
       "MannwhitneyuResult(statistic=50.0, pvalue=1.0)"
      ]
     },
     "execution_count": 179,
     "metadata": {},
     "output_type": "execute_result"
    }
   ],
   "source": [
    "# Проведем U-тест Манна-Уитни\n",
    "\n",
    "ss.mannwhitneyu(control_joined_month[1], control_joined_month[1], alternative='two-sided')"
   ]
  },
  {
   "cell_type": "markdown",
   "metadata": {},
   "source": [
    "##### visit_days"
   ]
  },
  {
   "cell_type": "code",
   "execution_count": 180,
   "metadata": {},
   "outputs": [],
   "source": [
    "# Преобразуем колонку с номерами дней в колонку списков\n",
    "\n",
    "usc['visit_days'] = usc.visit_days.apply(lambda x: [] if type(x) == int else x.split(','))"
   ]
  },
  {
   "cell_type": "code",
   "execution_count": 181,
   "metadata": {},
   "outputs": [],
   "source": [
    "# Добавим колонку с количеством дней посещений\n",
    "usc['days_count'] = usc.visit_days.apply(lambda x: len(x))"
   ]
  },
  {
   "cell_type": "code",
   "execution_count": 182,
   "metadata": {
    "scrolled": false
   },
   "outputs": [
    {
     "data": {
      "text/plain": [
       "<matplotlib.axes._subplots.AxesSubplot at 0x7ffb75ae67b8>"
      ]
     },
     "execution_count": 182,
     "metadata": {},
     "output_type": "execute_result"
    },
    {
     "data": {
      "image/png": "[encoded data removed]",
      "text/plain": [
       "<Figure size 432x288 with 1 Axes>"
      ]
     },
     "metadata": {},
     "output_type": "display_data"
    }
   ],
   "source": [
    "sns.histplot(data=usc, x='days_count', hue='group', palette='tab10')"
   ]
  },
  {
   "cell_type": "code",
   "execution_count": 183,
   "metadata": {},
   "outputs": [
    {
     "name": "stdout",
     "output_type": "stream",
     "text": [
      "ShapiroResult(statistic=0.7478107213973999, pvalue=0.0)\n",
      "ShapiroResult(statistic=0.7390583753585815, pvalue=0.0)\n"
     ]
    }
   ],
   "source": [
    "# Проверка на нормальность\n",
    "\n",
    "print(ss.shapiro((usc.days_count[usc.group == 1])),\n",
    "      ss.shapiro((usc.days_count[usc.group == 2])), sep='\\n')"
   ]
  },
  {
   "cell_type": "code",
   "execution_count": 184,
   "metadata": {},
   "outputs": [
    {
     "data": {
      "application/vnd.jupyter.widget-view+json": {
       "model_id": "8164b30edb3b42919c2b88de9a18b200",
       "version_major": 2,
       "version_minor": 0
      },
      "text/plain": [
       "HBox(children=(FloatProgress(value=0.0, max=10000.0), HTML(value='')))"
      ]
     },
     "metadata": {},
     "output_type": "display_data"
    },
    {
     "name": "stdout",
     "output_type": "stream",
     "text": [
      "\n"
     ]
    },
    {
     "data": {
      "image/png": "[encoded data removed]",
      "text/plain": [
       "<Figure size 432x288 with 1 Axes>"
      ]
     },
     "metadata": {},
     "output_type": "display_data"
    },
    {
     "name": "stdout",
     "output_type": "stream",
     "text": [
      "α=0.05, FPR=0.049\n"
     ]
    }
   ],
   "source": [
    "result = mod.t_simulation(usc.days_count[usc.group == 1], usc.days_count[usc.group == 2], 10000)\n",
    "mod.FPR_graph(result)"
   ]
  },
  {
   "cell_type": "markdown",
   "metadata": {},
   "source": [
    "##### product type"
   ]
  },
  {
   "cell_type": "code",
   "execution_count": 185,
   "metadata": {},
   "outputs": [
    {
     "data": {
      "text/plain": [
       "<matplotlib.axes._subplots.AxesSubplot at 0x7ffb75763048>"
      ]
     },
     "execution_count": 185,
     "metadata": {},
     "output_type": "execute_result"
    },
    {
     "data": {
      "image/png": "[encoded data removed]",
      "text/plain": [
       "<Figure size 432x288 with 1 Axes>"
      ]
     },
     "metadata": {},
     "output_type": "display_data"
    }
   ],
   "source": [
    "sns.countplot(data=trc, x='product_type', hue='group', palette='tab10')"
   ]
  },
  {
   "cell_type": "code",
   "execution_count": 186,
   "metadata": {},
   "outputs": [
    {
     "data": {
      "text/html": [
       "<div>\n",
       "<style scoped>\n",
       "    .dataframe tbody tr th:only-of-type {\n",
       "        vertical-align: middle;\n",
       "    }\n",
       "\n",
       "    .dataframe tbody tr th {\n",
       "        vertical-align: top;\n",
       "    }\n",
       "\n",
       "    .dataframe thead th {\n",
       "        text-align: right;\n",
       "    }\n",
       "</style>\n",
       "<table border=\"1\" class=\"dataframe\">\n",
       "  <thead>\n",
       "    <tr style=\"text-align: right;\">\n",
       "      <th>group</th>\n",
       "      <th>1</th>\n",
       "      <th>2</th>\n",
       "    </tr>\n",
       "    <tr>\n",
       "      <th>product_type</th>\n",
       "      <th></th>\n",
       "      <th></th>\n",
       "    </tr>\n",
       "  </thead>\n",
       "  <tbody>\n",
       "    <tr>\n",
       "      <th>coins</th>\n",
       "      <td>149</td>\n",
       "      <td>124</td>\n",
       "    </tr>\n",
       "    <tr>\n",
       "      <th>other_type</th>\n",
       "      <td>52</td>\n",
       "      <td>44</td>\n",
       "    </tr>\n",
       "    <tr>\n",
       "      <th>premium_no_trial</th>\n",
       "      <td>106</td>\n",
       "      <td>107</td>\n",
       "    </tr>\n",
       "    <tr>\n",
       "      <th>trial_premium</th>\n",
       "      <td>67</td>\n",
       "      <td>53</td>\n",
       "    </tr>\n",
       "  </tbody>\n",
       "</table>\n",
       "</div>"
      ],
      "text/plain": [
       "group               1    2\n",
       "product_type              \n",
       "coins             149  124\n",
       "other_type         52   44\n",
       "premium_no_trial  106  107\n",
       "trial_premium      67   53"
      ]
     },
     "execution_count": 186,
     "metadata": {},
     "output_type": "execute_result"
    }
   ],
   "source": [
    "# Таблица сопряженности для категориальных переменных\n",
    "\n",
    "pd.crosstab(trc.product_type, trc.group)"
   ]
  },
  {
   "cell_type": "code",
   "execution_count": 187,
   "metadata": {},
   "outputs": [
    {
     "name": "stdout",
     "output_type": "stream",
     "text": [
      "pvalue = 0.6624229310460596\n"
     ]
    }
   ],
   "source": [
    "# Воспользуемся критерием xи-квадрат\n",
    "\n",
    "stat, p, dof, expected = ss.chi2_contingency(pd.crosstab(trc.product_type, trc.group))\n",
    "print('pvalue =', p)"
   ]
  },
  {
   "cell_type": "markdown",
   "metadata": {},
   "source": [
    "##### revenue/ARPU"
   ]
  },
  {
   "cell_type": "code",
   "execution_count": 188,
   "metadata": {
    "scrolled": true
   },
   "outputs": [
    {
     "data": {
      "text/plain": [
       "<matplotlib.axes._subplots.AxesSubplot at 0x7ffb75954860>"
      ]
     },
     "execution_count": 188,
     "metadata": {},
     "output_type": "execute_result"
    },
    {
     "data": {
      "image/png": "[encoded data removed]",
      "text/plain": [
       "<Figure size 432x288 with 1 Axes>"
      ]
     },
     "metadata": {},
     "output_type": "display_data"
    }
   ],
   "source": [
    "sns.histplot(data=usc, x='total_revenue', hue='group', palette='tab10', log_scale=(False, True))"
   ]
  },
  {
   "cell_type": "code",
   "execution_count": 189,
   "metadata": {},
   "outputs": [
    {
     "name": "stdout",
     "output_type": "stream",
     "text": [
      "ShapiroResult(statistic=0.03985559940338135, pvalue=0.0)\n",
      "ShapiroResult(statistic=0.1445736289024353, pvalue=0.0)\n"
     ]
    }
   ],
   "source": [
    "# Проверка на нормальность данных\n",
    "\n",
    "print(ss.shapiro((usc.total_revenue[usc.group == 1])),\n",
    "      ss.shapiro((usc.total_revenue[usc.group == 2])), sep='\\n')"
   ]
  },
  {
   "cell_type": "markdown",
   "metadata": {},
   "source": [
    "ARPU в данном случае это среднее значение revenue. Используя бустрап, проведем t-test. "
   ]
  },
  {
   "cell_type": "code",
   "execution_count": 190,
   "metadata": {},
   "outputs": [
    {
     "data": {
      "application/vnd.jupyter.widget-view+json": {
       "model_id": "9f1c61bcfbc0403b9200b28ceba2afa1",
       "version_major": 2,
       "version_minor": 0
      },
      "text/plain": [
       "HBox(children=(FloatProgress(value=0.0, max=10000.0), HTML(value='')))"
      ]
     },
     "metadata": {},
     "output_type": "display_data"
    },
    {
     "name": "stdout",
     "output_type": "stream",
     "text": [
      "\n"
     ]
    },
    {
     "data": {
      "image/png": "[encoded data removed]",
      "text/plain": [
       "<Figure size 432x288 with 1 Axes>"
      ]
     },
     "metadata": {},
     "output_type": "display_data"
    },
    {
     "name": "stdout",
     "output_type": "stream",
     "text": [
      "α=0.05, FPR=0.0324\n"
     ]
    }
   ],
   "source": [
    "# Симуляция t-testa\n",
    "\n",
    "result = mod.t_simulation(usc.total_revenue[usc.group == 1], usc.total_revenue[usc.group == 1], 10000, 100)\n",
    "mod.FPR_graph(result)"
   ]
  },
  {
   "cell_type": "code",
   "execution_count": 191,
   "metadata": {},
   "outputs": [
    {
     "name": "stdout",
     "output_type": "stream",
     "text": [
      "ARPU первой контрольной группы:\n",
      "601.9\n",
      "ARPU второй контрольной группы:\n",
      "450.4\n"
     ]
    }
   ],
   "source": [
    "print('ARPU первой контрольной группы:', usc.total_revenue[usc.group == 1].mean().round(1),\n",
    "'ARPU второй контрольной группы:', usc.total_revenue[usc.group == 2].mean().round(1), sep='\\n')"
   ]
  },
  {
   "cell_type": "markdown",
   "metadata": {},
   "source": [
    "##### ARPPU"
   ]
  },
  {
   "cell_type": "markdown",
   "metadata": {},
   "source": [
    "ARPPU - это среднее значение распределения revenue, учитываяющее только платящих пользователей.\n",
    "Проведем такое же сравнения, как и для ARPU."
   ]
  },
  {
   "cell_type": "code",
   "execution_count": 192,
   "metadata": {},
   "outputs": [
    {
     "data": {
      "text/plain": [
       "<matplotlib.axes._subplots.AxesSubplot at 0x7ffb7561de80>"
      ]
     },
     "execution_count": 192,
     "metadata": {},
     "output_type": "execute_result"
    },
    {
     "data": {
      "image/png": "[encoded data removed]",
      "text/plain": [
       "<Figure size 432x288 with 1 Axes>"
      ]
     },
     "metadata": {},
     "output_type": "display_data"
    }
   ],
   "source": [
    "sns.histplot(data=usc.query('total_revenue>0'), x='total_revenue', hue='group', palette='tab10', log_scale=(True, False))"
   ]
  },
  {
   "cell_type": "code",
   "execution_count": 193,
   "metadata": {},
   "outputs": [
    {
     "name": "stdout",
     "output_type": "stream",
     "text": [
      "ShapiroResult(statistic=0.17645704746246338, pvalue=2.8112563471802294e-28)\n",
      "ShapiroResult(statistic=0.6258848905563354, pvalue=5.0175247612037996e-20)\n"
     ]
    }
   ],
   "source": [
    "# Проверка на нормальность распределений\n",
    "\n",
    "print(ss.shapiro(usc.query('total_revenue>0').total_revenue[usc.group == 1]),\n",
    "      ss.shapiro(usc.query('total_revenue>0').total_revenue[usc.group == 2]), sep='\\n')"
   ]
  },
  {
   "cell_type": "code",
   "execution_count": 194,
   "metadata": {},
   "outputs": [
    {
     "data": {
      "application/vnd.jupyter.widget-view+json": {
       "model_id": "fa5326ab18a04286afd7ce028fc6d7f4",
       "version_major": 2,
       "version_minor": 0
      },
      "text/plain": [
       "HBox(children=(FloatProgress(value=0.0, max=10000.0), HTML(value='')))"
      ]
     },
     "metadata": {},
     "output_type": "display_data"
    },
    {
     "name": "stdout",
     "output_type": "stream",
     "text": [
      "\n"
     ]
    },
    {
     "data": {
      "image/png": "[encoded data removed]",
      "text/plain": [
       "<Figure size 432x288 with 1 Axes>"
      ]
     },
     "metadata": {},
     "output_type": "display_data"
    },
    {
     "name": "stdout",
     "output_type": "stream",
     "text": [
      "α=0.05, FPR=0.0168\n"
     ]
    }
   ],
   "source": [
    "# Симуляция t-testa\n",
    "\n",
    "result = mod.t_simulation(usc.query('total_revenue>0').total_revenue[usc.group == 1],\n",
    "                          usc.query('total_revenue>0').total_revenue[usc.group == 2], 10000, 100)\n",
    "mod.FPR_graph(result)"
   ]
  },
  {
   "cell_type": "markdown",
   "metadata": {},
   "source": [
    "Несмотря на то, что FPR < 0.05, распределение асимметрично. "
   ]
  },
  {
   "cell_type": "code",
   "execution_count": 195,
   "metadata": {},
   "outputs": [
    {
     "name": "stdout",
     "output_type": "stream",
     "text": [
      "ARPPU первой контрольной группы:\n",
      "13601.6\n",
      "ARPPU второй контрольной группы:\n",
      "10269.7\n"
     ]
    }
   ],
   "source": [
    "print('ARPPU первой контрольной группы:', usc.query('total_revenue>0')\\\n",
    "      .total_revenue[usc.group == 1].mean().round(1),\n",
    "      'ARPPU второй контрольной группы:', usc.query('total_revenue>0')\\\n",
    "      .total_revenue[usc.group == 2].mean().round(1), sep='\\n')"
   ]
  },
  {
   "cell_type": "markdown",
   "metadata": {},
   "source": [
    "##### CR"
   ]
  },
  {
   "cell_type": "markdown",
   "metadata": {},
   "source": [
    "Сравнивать мы будем конверсии в покупку обычного премиума без учета триал-версии премиума. "
   ]
  },
  {
   "cell_type": "code",
   "execution_count": 196,
   "metadata": {},
   "outputs": [],
   "source": [
    "# Создадим список пользователей покупавших обычный премиум, хотя бы один раз\n",
    "\n",
    "premium_no_trial_list = trc.query('product_type == \"premium_no_trial\"').uid.unique()"
   ]
  },
  {
   "cell_type": "code",
   "execution_count": 197,
   "metadata": {},
   "outputs": [],
   "source": [
    "# Добавим в таблицу с информацией пользователя колонку отражающую покупку хотя бы одного премиума\n",
    "\n",
    "usc['was_premium_no_trial'] = usc.uid.apply(lambda x: 1 if x in premium_no_trial_list else 0)"
   ]
  },
  {
   "cell_type": "code",
   "execution_count": 198,
   "metadata": {},
   "outputs": [
    {
     "data": {
      "text/html": [
       "<div>\n",
       "<style scoped>\n",
       "    .dataframe tbody tr th:only-of-type {\n",
       "        vertical-align: middle;\n",
       "    }\n",
       "\n",
       "    .dataframe tbody tr th {\n",
       "        vertical-align: top;\n",
       "    }\n",
       "\n",
       "    .dataframe thead th {\n",
       "        text-align: right;\n",
       "    }\n",
       "</style>\n",
       "<table border=\"1\" class=\"dataframe\">\n",
       "  <thead>\n",
       "    <tr style=\"text-align: right;\">\n",
       "      <th>group</th>\n",
       "      <th>1</th>\n",
       "      <th>2</th>\n",
       "    </tr>\n",
       "    <tr>\n",
       "      <th>was_premium_no_trial</th>\n",
       "      <th></th>\n",
       "      <th></th>\n",
       "    </tr>\n",
       "  </thead>\n",
       "  <tbody>\n",
       "    <tr>\n",
       "      <th>0</th>\n",
       "      <td>4240</td>\n",
       "      <td>4162</td>\n",
       "    </tr>\n",
       "    <tr>\n",
       "      <th>1</th>\n",
       "      <td>99</td>\n",
       "      <td>102</td>\n",
       "    </tr>\n",
       "  </tbody>\n",
       "</table>\n",
       "</div>"
      ],
      "text/plain": [
       "group                    1     2\n",
       "was_premium_no_trial            \n",
       "0                     4240  4162\n",
       "1                       99   102"
      ]
     },
     "execution_count": 198,
     "metadata": {},
     "output_type": "execute_result"
    }
   ],
   "source": [
    "# Таблица сопряженности\n",
    "\n",
    "pd.crosstab(usc.was_premium_no_trial, usc.group)"
   ]
  },
  {
   "cell_type": "code",
   "execution_count": 199,
   "metadata": {},
   "outputs": [
    {
     "name": "stdout",
     "output_type": "stream",
     "text": [
      "pvalue = 0.788834955931526\n"
     ]
    }
   ],
   "source": [
    "# Поскольку конверсия переменная категориальная применим критерий хи-квадрат\n",
    "\n",
    "stat, p, dof, expected = ss.chi2_contingency(pd.crosstab(usc.was_premium_no_trial, usc.group))\n",
    "print('pvalue =', p)"
   ]
  },
  {
   "cell_type": "markdown",
   "metadata": {},
   "source": [
    "#### Вывод по результатам A/A теста:\n",
    "\n",
    "По основным бизнес-метрикам система сплитования отработала хорошо. \n",
    "Выборки по возрасту, полу, стране, времени регистрации и типу продукта репрезентативны, но есть статистическая разница между распределенями дней посещения после регистрации. \n",
    "\n"
   ]
  },
  {
   "cell_type": "markdown",
   "metadata": {},
   "source": [
    "<a id=\"4\"></a>\n",
    "\n",
    "## A/B-тест\n",
    "[в оглавление](#0)"
   ]
  },
  {
   "cell_type": "markdown",
   "metadata": {},
   "source": [
    "Прежде чем, мы перейдем к анализу результатов A/B теста, стоит отметить, что в начале задания сказано, что для новых пользователей *из нескольких стран* была изменена стоимость премиум-подписки. Однако, не отмечено, входят ли все представленные в датасетах страны в данную группу или нет. "
   ]
  },
  {
   "cell_type": "code",
   "execution_count": 200,
   "metadata": {},
   "outputs": [
    {
     "data": {
      "text/html": [
       "<div>\n",
       "<style scoped>\n",
       "    .dataframe tbody tr th:only-of-type {\n",
       "        vertical-align: middle;\n",
       "    }\n",
       "\n",
       "    .dataframe tbody tr th {\n",
       "        vertical-align: top;\n",
       "    }\n",
       "\n",
       "    .dataframe thead th {\n",
       "        text-align: right;\n",
       "    }\n",
       "</style>\n",
       "<table border=\"1\" class=\"dataframe\">\n",
       "  <thead>\n",
       "    <tr style=\"text-align: right;\">\n",
       "      <th></th>\n",
       "      <th>revenue_x</th>\n",
       "      <th>revenue_y</th>\n",
       "    </tr>\n",
       "    <tr>\n",
       "      <th>country</th>\n",
       "      <th></th>\n",
       "      <th></th>\n",
       "    </tr>\n",
       "  </thead>\n",
       "  <tbody>\n",
       "    <tr>\n",
       "      <th>Argentina</th>\n",
       "      <td>6724.250000</td>\n",
       "      <td>9882.600000</td>\n",
       "    </tr>\n",
       "    <tr>\n",
       "      <th>Australia</th>\n",
       "      <td>4342.000000</td>\n",
       "      <td>12597.000000</td>\n",
       "    </tr>\n",
       "    <tr>\n",
       "      <th>Austria</th>\n",
       "      <td>4056.000000</td>\n",
       "      <td>0.000000</td>\n",
       "    </tr>\n",
       "    <tr>\n",
       "      <th>Belgium</th>\n",
       "      <td>5956.166667</td>\n",
       "      <td>12597.000000</td>\n",
       "    </tr>\n",
       "    <tr>\n",
       "      <th>Canada</th>\n",
       "      <td>4877.600000</td>\n",
       "      <td>6119.750000</td>\n",
       "    </tr>\n",
       "    <tr>\n",
       "      <th>Chile</th>\n",
       "      <td>5825.300000</td>\n",
       "      <td>8181.333333</td>\n",
       "    </tr>\n",
       "    <tr>\n",
       "      <th>France</th>\n",
       "      <td>5367.142857</td>\n",
       "      <td>6677.666667</td>\n",
       "    </tr>\n",
       "    <tr>\n",
       "      <th>Germany</th>\n",
       "      <td>5816.571429</td>\n",
       "      <td>5167.500000</td>\n",
       "    </tr>\n",
       "    <tr>\n",
       "      <th>India</th>\n",
       "      <td>4810.000000</td>\n",
       "      <td>0.000000</td>\n",
       "    </tr>\n",
       "    <tr>\n",
       "      <th>Israel</th>\n",
       "      <td>6030.916667</td>\n",
       "      <td>12597.000000</td>\n",
       "    </tr>\n",
       "    <tr>\n",
       "      <th>Italy</th>\n",
       "      <td>8179.736842</td>\n",
       "      <td>7400.250000</td>\n",
       "    </tr>\n",
       "    <tr>\n",
       "      <th>Portugal</th>\n",
       "      <td>5104.666667</td>\n",
       "      <td>0.000000</td>\n",
       "    </tr>\n",
       "    <tr>\n",
       "      <th>Spain</th>\n",
       "      <td>9692.312500</td>\n",
       "      <td>24918.833333</td>\n",
       "    </tr>\n",
       "    <tr>\n",
       "      <th>Switzerland</th>\n",
       "      <td>5131.750000</td>\n",
       "      <td>0.000000</td>\n",
       "    </tr>\n",
       "    <tr>\n",
       "      <th>Turkey</th>\n",
       "      <td>23361.000000</td>\n",
       "      <td>3614.000000</td>\n",
       "    </tr>\n",
       "    <tr>\n",
       "      <th>Ukraine</th>\n",
       "      <td>6357.000000</td>\n",
       "      <td>0.000000</td>\n",
       "    </tr>\n",
       "    <tr>\n",
       "      <th>United Arab Emirates</th>\n",
       "      <td>16433.857143</td>\n",
       "      <td>23422.285714</td>\n",
       "    </tr>\n",
       "    <tr>\n",
       "      <th>United Kingdom (Great Britain)</th>\n",
       "      <td>5693.187500</td>\n",
       "      <td>6466.200000</td>\n",
       "    </tr>\n",
       "    <tr>\n",
       "      <th>United States of America</th>\n",
       "      <td>6907.822581</td>\n",
       "      <td>8287.500000</td>\n",
       "    </tr>\n",
       "  </tbody>\n",
       "</table>\n",
       "</div>"
      ],
      "text/plain": [
       "                                   revenue_x     revenue_y\n",
       "country                                                   \n",
       "Argentina                        6724.250000   9882.600000\n",
       "Australia                        4342.000000  12597.000000\n",
       "Austria                          4056.000000      0.000000\n",
       "Belgium                          5956.166667  12597.000000\n",
       "Canada                           4877.600000   6119.750000\n",
       "Chile                            5825.300000   8181.333333\n",
       "France                           5367.142857   6677.666667\n",
       "Germany                          5816.571429   5167.500000\n",
       "India                            4810.000000      0.000000\n",
       "Israel                           6030.916667  12597.000000\n",
       "Italy                            8179.736842   7400.250000\n",
       "Portugal                         5104.666667      0.000000\n",
       "Spain                            9692.312500  24918.833333\n",
       "Switzerland                      5131.750000      0.000000\n",
       "Turkey                          23361.000000   3614.000000\n",
       "Ukraine                          6357.000000      0.000000\n",
       "United Arab Emirates            16433.857143  23422.285714\n",
       "United Kingdom (Great Britain)   5693.187500   6466.200000\n",
       "United States of America         6907.822581   8287.500000"
      ]
     },
     "execution_count": 200,
     "metadata": {},
     "output_type": "execute_result"
    }
   ],
   "source": [
    "trc\\\n",
    "    .query('product_type == \"premium_no_trial\"')\\\n",
    "    .groupby('country')\\\n",
    "    .agg({'revenue': 'mean'})\\\n",
    "    .merge(trt\\\n",
    "           .query('product_type == \"premium_no_trial\"')\\\n",
    "           .groupby('country')\\\n",
    "           .agg({'revenue': 'mean'}), how = 'left', on = 'country')\\\n",
    "    .fillna(0)"
   ]
  },
  {
   "cell_type": "markdown",
   "metadata": {},
   "source": [
    "Поскольку список стран и величина изменения стоимости обычной премиумной подписки не были даны, а анализ транзакаций не позволяет одноназначно сделать выводы в каких странах была применена новая ценовая политика, а в каких нет, то при сравнительном анализе основных продуктовых метрик, мы будем полагаться на утверждение, что новая ценовая политика премиум-подписки была применена для пользователей всех стран представленных в контрольных и тестовых группах. \n",
    "\n",
    "Поскольку результаты А/А теста показали корректную работу системы сплитования, то выборки контрольных групп для последующего анализа будут рассматриваться совместно. \n",
    "\n",
    "Датасеты тестовой и контрольных групп объединим, присвоив переменной group значения 0 и 1 соотвественно."
   ]
  },
  {
   "cell_type": "code",
   "execution_count": 201,
   "metadata": {},
   "outputs": [],
   "source": [
    "# Подготовим датасеты\n",
    "\n",
    "ust['group'] = 0\n",
    "trt['group'] = 0\n",
    "\n",
    "ust['visit_days'] = ust.visit_days.apply(lambda x: [] if type(x) == int else x.split(','))\n",
    "ust['days_count'] = ust.visit_days.apply(lambda x: len(x))\n",
    "trt['joined_at_month'] = trt.joined_at.dt.to_period('M')"
   ]
  },
  {
   "cell_type": "code",
   "execution_count": 202,
   "metadata": {},
   "outputs": [],
   "source": [
    "# Добавим информацию тестовой группе о наличие обычного премиума\n",
    "\n",
    "premium_no_trial_list_test = trt.query('product_type == \"premium_no_trial\"').uid.unique()\n",
    "ust['was_premium_no_trial'] = ust.uid.apply(lambda x: 1 if x in premium_no_trial_list_test else 0)"
   ]
  },
  {
   "cell_type": "code",
   "execution_count": 203,
   "metadata": {},
   "outputs": [],
   "source": [
    "# Объединим\n",
    "\n",
    "users = pd.concat([usc, ust], ignore_index=True)\n",
    "trans = pd.concat([trc, trt], ignore_index=True)\n",
    "\n",
    "users.group[users.group != 0] = 1\n",
    "trans.group[trans.group != 0] = 1"
   ]
  },
  {
   "cell_type": "markdown",
   "metadata": {},
   "source": [
    "##### ARPU"
   ]
  },
  {
   "cell_type": "markdown",
   "metadata": {},
   "source": [
    "Предварительно проанализируем распределение total_revenue."
   ]
  },
  {
   "cell_type": "code",
   "execution_count": 204,
   "metadata": {
    "scrolled": false
   },
   "outputs": [
    {
     "data": {
      "text/plain": [
       "<matplotlib.axes._subplots.AxesSubplot at 0x7ffb75fdac18>"
      ]
     },
     "execution_count": 204,
     "metadata": {},
     "output_type": "execute_result"
    },
    {
     "data": {
      "image/png": "[encoded data removed]",
      "text/plain": [
       "<Figure size 432x288 with 1 Axes>"
      ]
     },
     "metadata": {},
     "output_type": "display_data"
    }
   ],
   "source": [
    "sns.histplot(data=users, x='total_revenue', hue='group', palette='tab10', log_scale=(False, True), binwidth=5000)"
   ]
  },
  {
   "cell_type": "code",
   "execution_count": 205,
   "metadata": {},
   "outputs": [
    {
     "name": "stdout",
     "output_type": "stream",
     "text": [
      "ShapiroResult(statistic=0.09945714473724365, pvalue=0.0)\n",
      "ShapiroResult(statistic=0.050388216972351074, pvalue=0.0)\n"
     ]
    }
   ],
   "source": [
    "# Проверка на нормальность \n",
    "\n",
    "print(ss.shapiro((users.total_revenue[users.group == 0])),\n",
    "      ss.shapiro((users.total_revenue[users.group == 1])), sep='\\n')"
   ]
  },
  {
   "cell_type": "code",
   "execution_count": 209,
   "metadata": {},
   "outputs": [
    {
     "name": "stdout",
     "output_type": "stream",
     "text": [
      "ARPU тестовой группы:\n",
      "544.31\n",
      "ARPU контрольной группы:\n",
      "526.79\n"
     ]
    }
   ],
   "source": [
    "print('ARPU тестовой группы:', users.total_revenue[users.group == 0].mean().round(2),\n",
    "      'ARPU контрольной группы:', users.total_revenue[users.group == 1].mean().round(2), sep='\\n')"
   ]
  },
  {
   "cell_type": "code",
   "execution_count": 211,
   "metadata": {},
   "outputs": [
    {
     "data": {
      "text/plain": [
       "Ttest_indResult(statistic=0.18647757101037393, pvalue=0.8520736627812057)"
      ]
     },
     "execution_count": 211,
     "metadata": {},
     "output_type": "execute_result"
    }
   ],
   "source": [
    "ss.ttest_ind(users.total_revenue[users.group == 0],\n",
    "             users.total_revenue[users.group == 1], equal_var=False)"
   ]
  },
  {
   "cell_type": "markdown",
   "metadata": {},
   "source": [
    "Результат t-теста не позволяет отклонить нулевую гипотезу об отсутствии статистической значимости между средними.\n",
    "Поскольку среднее чувствительно к выбросам, исключим из рассмотрения пользователя с аномально большой нормированной выручкой и проведем сравнение заново."
   ]
  },
  {
   "cell_type": "code",
   "execution_count": 213,
   "metadata": {},
   "outputs": [
    {
     "name": "stdout",
     "output_type": "stream",
     "text": [
      "ARPU тестовой группы:\n",
      "544.3131383472609\n",
      "ARPU контрольной группы без выброса:\n",
      "416.3130890052356\n"
     ]
    }
   ],
   "source": [
    "print('ARPU тестовой группы:', users.total_revenue[users.group == 0].mean(),\n",
    "      'ARPU контрольной группы без выброса:', \n",
    "      users.query('total_revenue<40000').total_revenue[users.group == 1].mean(), sep='\\n')"
   ]
  },
  {
   "cell_type": "code",
   "execution_count": 214,
   "metadata": {},
   "outputs": [
    {
     "data": {
      "text/plain": [
       "Ttest_indResult(statistic=1.7710476030925488, pvalue=0.07660833293035954)"
      ]
     },
     "execution_count": 214,
     "metadata": {},
     "output_type": "execute_result"
    }
   ],
   "source": [
    "ss.ttest_ind(users.total_revenue[users.group == 0],\n",
    "             users.query('total_revenue<40000').total_revenue[users.group == 1], equal_var=False)"
   ]
  },
  {
   "cell_type": "code",
   "execution_count": 216,
   "metadata": {},
   "outputs": [
    {
     "data": {
      "application/vnd.jupyter.widget-view+json": {
       "model_id": "435a267c4c08470faebdc403e847b99c",
       "version_major": 2,
       "version_minor": 0
      },
      "text/plain": [
       "HBox(children=(FloatProgress(value=0.0, max=10000.0), HTML(value='')))"
      ]
     },
     "metadata": {},
     "output_type": "display_data"
    },
    {
     "name": "stdout",
     "output_type": "stream",
     "text": [
      "\n"
     ]
    },
    {
     "data": {
      "image/png": "[encoded data removed]",
      "text/plain": [
       "<Figure size 432x288 with 1 Axes>"
      ]
     },
     "metadata": {},
     "output_type": "display_data"
    },
    {
     "name": "stdout",
     "output_type": "stream",
     "text": [
      "α=0.05, FPR=0.0345\n"
     ]
    }
   ],
   "source": [
    "# Симуляция t-testa\n",
    "\n",
    "result = mod.t_simulation(users.total_revenue[users.group == 0],\n",
    "                          users.query('total_revenue<40000')\\\n",
    "                          .total_revenue[users.group == 1], 10000, 100)\n",
    "mod.FPR_graph(result)"
   ]
  },
  {
   "cell_type": "markdown",
   "metadata": {},
   "source": [
    "Даже с учетом выброса мы не можем отвергнуть нулевую гипотезу t-теста."
   ]
  },
  {
   "cell_type": "markdown",
   "metadata": {},
   "source": [
    "##### ARPPU"
   ]
  },
  {
   "cell_type": "code",
   "execution_count": 146,
   "metadata": {},
   "outputs": [
    {
     "data": {
      "text/plain": [
       "<matplotlib.axes._subplots.AxesSubplot at 0x7f12163ada90>"
      ]
     },
     "execution_count": 146,
     "metadata": {},
     "output_type": "execute_result"
    },
    {
     "data": {
      "image/png": "[encoded data removed]",
      "text/plain": [
       "<Figure size 432x288 with 1 Axes>"
      ]
     },
     "metadata": {},
     "output_type": "display_data"
    }
   ],
   "source": [
    "sns.histplot(data=users.query('total_revenue>0'), x='total_revenue', hue='group', palette='tab10', log_scale=(True, False))"
   ]
  },
  {
   "cell_type": "code",
   "execution_count": 147,
   "metadata": {},
   "outputs": [
    {
     "name": "stdout",
     "output_type": "stream",
     "text": [
      "ShapiroResult(statistic=0.5640736818313599, pvalue=4.947132531180847e-19)\n",
      "ShapiroResult(statistic=0.19084203243255615, pvalue=2.3841519432051633e-37)\n"
     ]
    }
   ],
   "source": [
    "# Проверка на нормальность распределений\n",
    "\n",
    "print(ss.shapiro(users.query('total_revenue>0').total_revenue[users.group == 0]),\n",
    "      ss.shapiro(users.query('total_revenue>0').total_revenue[users.group == 1]), sep='\\n')"
   ]
  },
  {
   "cell_type": "code",
   "execution_count": 148,
   "metadata": {},
   "outputs": [
    {
     "name": "stdout",
     "output_type": "stream",
     "text": [
      "ShapiroResult(statistic=0.9279718399047852, pvalue=9.65893946158758e-07)\n",
      "ShapiroResult(statistic=0.9542014002799988, pvalue=1.8091266262842964e-09)\n"
     ]
    }
   ],
   "source": [
    "# Проверка на нормальность после логарифмирования\n",
    "\n",
    "print(ss.shapiro(np.log(users.query('total_revenue>0').total_revenue[users.group == 0])),\n",
    "      ss.shapiro(np.log(users.query('total_revenue>0').total_revenue[users.group == 1])), sep='\\n')"
   ]
  },
  {
   "cell_type": "code",
   "execution_count": 221,
   "metadata": {},
   "outputs": [
    {
     "name": "stdout",
     "output_type": "stream",
     "text": [
      "ARPPU тестовой группы:\n",
      "16060.97\n",
      "ARPPU контрольной группы:\n",
      "11957.63\n"
     ]
    }
   ],
   "source": [
    "print('ARPPU тестовой группы:', users.query('total_revenue>0').total_revenue[users.group == 0].mean().round(2),\n",
    "      'ARPPU контрольной группы:', \n",
    "      users.query('total_revenue>0').total_revenue[users.group == 1].mean().round(2), sep='\\n')"
   ]
  },
  {
   "cell_type": "code",
   "execution_count": 219,
   "metadata": {},
   "outputs": [
    {
     "data": {
      "text/plain": [
       "Ttest_indResult(statistic=2.016254832184396, pvalue=0.04448869597453669)"
      ]
     },
     "execution_count": 219,
     "metadata": {},
     "output_type": "execute_result"
    }
   ],
   "source": [
    "ss.ttest_ind(users.query('total_revenue>0').total_revenue[users.group == 0],\n",
    "             users.query('total_revenue>0')\\\n",
    "             .total_revenue[users.group == 1], equal_var=False)"
   ]
  },
  {
   "cell_type": "code",
   "execution_count": 222,
   "metadata": {},
   "outputs": [
    {
     "data": {
      "application/vnd.jupyter.widget-view+json": {
       "model_id": "f406ea1389f94569954037f9aa0c71ea",
       "version_major": 2,
       "version_minor": 0
      },
      "text/plain": [
       "HBox(children=(FloatProgress(value=0.0, max=10000.0), HTML(value='')))"
      ]
     },
     "metadata": {},
     "output_type": "display_data"
    },
    {
     "name": "stdout",
     "output_type": "stream",
     "text": [
      "\n"
     ]
    },
    {
     "data": {
      "image/png": "[encoded data removed]",
      "text/plain": [
       "<Figure size 432x288 with 1 Axes>"
      ]
     },
     "metadata": {},
     "output_type": "display_data"
    },
    {
     "name": "stdout",
     "output_type": "stream",
     "text": [
      "α=0.05, FPR=0.0008\n"
     ]
    }
   ],
   "source": [
    "# Симуляция t-testa\n",
    "\n",
    "result = mod.t_simulation(users.query('total_revenue>0').total_revenue[users.group == 0],\n",
    "                          users.query('total_revenue>0').total_revenue[users.group == 0],\n",
    "                          10000, 100)\n",
    "mod.FPR_graph(result)"
   ]
  },
  {
   "cell_type": "markdown",
   "metadata": {},
   "source": [
    "Даже с учетом аномального выброса, мы можем говорить о статистической значимой разнице между полученными значениями ARPPU."
   ]
  },
  {
   "cell_type": "markdown",
   "metadata": {},
   "source": [
    "#### CR"
   ]
  },
  {
   "cell_type": "code",
   "execution_count": 154,
   "metadata": {},
   "outputs": [
    {
     "data": {
      "text/html": [
       "<div>\n",
       "<style scoped>\n",
       "    .dataframe tbody tr th:only-of-type {\n",
       "        vertical-align: middle;\n",
       "    }\n",
       "\n",
       "    .dataframe tbody tr th {\n",
       "        vertical-align: top;\n",
       "    }\n",
       "\n",
       "    .dataframe thead th {\n",
       "        text-align: right;\n",
       "    }\n",
       "</style>\n",
       "<table border=\"1\" class=\"dataframe\">\n",
       "  <thead>\n",
       "    <tr style=\"text-align: right;\">\n",
       "      <th>group</th>\n",
       "      <th>0</th>\n",
       "      <th>1</th>\n",
       "    </tr>\n",
       "    <tr>\n",
       "      <th>was_premium_no_trial</th>\n",
       "      <th></th>\n",
       "      <th></th>\n",
       "    </tr>\n",
       "  </thead>\n",
       "  <tbody>\n",
       "    <tr>\n",
       "      <th>0</th>\n",
       "      <td>4241</td>\n",
       "      <td>8402</td>\n",
       "    </tr>\n",
       "    <tr>\n",
       "      <th>1</th>\n",
       "      <td>67</td>\n",
       "      <td>201</td>\n",
       "    </tr>\n",
       "  </tbody>\n",
       "</table>\n",
       "</div>"
      ],
      "text/plain": [
       "group                    0     1\n",
       "was_premium_no_trial            \n",
       "0                     4241  8402\n",
       "1                       67   201"
      ]
     },
     "execution_count": 154,
     "metadata": {},
     "output_type": "execute_result"
    }
   ],
   "source": [
    "# Таблица сопряженности\n",
    "\n",
    "pd.crosstab(users.was_premium_no_trial, users.group)"
   ]
  },
  {
   "cell_type": "code",
   "execution_count": 155,
   "metadata": {},
   "outputs": [
    {
     "name": "stdout",
     "output_type": "stream",
     "text": [
      "pvalue = 0.004104012034521867\n"
     ]
    }
   ],
   "source": [
    "# Используем критерий хи-квадрат\n",
    "\n",
    "stat, p, dof, expected = ss.chi2_contingency(pd.crosstab(users.was_premium_no_trial, users.group))\n",
    "print('pvalue =', p)"
   ]
  },
  {
   "cell_type": "markdown",
   "metadata": {},
   "source": [
    "<a id=\"5\"></a>\n",
    "\n",
    "## Заключение\n",
    "[в оглавление](#0)"
   ]
  },
  {
   "cell_type": "markdown",
   "metadata": {},
   "source": [
    "Проведенный анализ A/A-теста позволяет, утверждать, что система сплитования работает удовлетворительно.\n",
    "Но наличие аномального выброса вносит свое влияние при сравнительном анализе A/B-теста.\n",
    "\n",
    "Результаты анализа A/B-теста позволяют утверждать, что введение новой ценовой политики привело к статистически значимому изменению конверсии в покупку обычной премиум-подписки упало с 2.39% до 1.58%. Из чего можно сделать вывод о росте цены за премиум-подписку. Повышение цены как следствие приводит к статистическими значимому росту ARPPU на 15%.\n",
    "Однако, если ставить во главу угла ARPU, как главную метрику отражающую зависимость выручки от количества пользователей, то статистически значимой разнице в ARPU между двумя группами найдено не было.\n",
    "\n",
    "Несмотря, на то что, что показано статистически значимое различие между метриками CR и ARPPU в контрольной и тестовой группе, проведенный A/B тест стоит считать неудачным, поскольку его результаты не позволяет ответить на главный вопрос о целесообразности использования новой ценовой политики. "
   ]
  },
  {
   "cell_type": "code",
   "execution_count": null,
   "metadata": {},
   "outputs": [],
   "source": []
  }
 ],
 "metadata": {
  "kernelspec": {
   "display_name": "Python 3",
   "language": "python",
   "name": "python3"
  },
  "language_info": {
   "codemirror_mode": {
    "name": "ipython",
    "version": 3
   },
   "file_extension": ".py",
   "mimetype": "text/x-python",
   "name": "python",
   "nbconvert_exporter": "python",
   "pygments_lexer": "ipython3",
   "version": "3.7.3"
  }
 },
 "nbformat": 4,
 "nbformat_minor": 4
}
